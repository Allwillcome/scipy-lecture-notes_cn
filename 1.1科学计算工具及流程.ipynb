{
 "metadata": {
  "name": "",
  "signature": "sha256:ed3f5d81b031da5f427ad022b1294726a00b0909c0303b6baa7ba074dfaca3fc"
 },
 "nbformat": 3,
 "nbformat_minor": 0,
 "worksheets": [
  {
   "cells": [
    {
     "cell_type": "markdown",
     "metadata": {},
     "source": [
      ">\u4f5c\u8005 : Fernando Perez, Emmanuelle Gouillart, Ga\u00ebl Varoquaux, Valentin Haenel\n",
      "\n",
      "# 1.1 \u4e3a\u4ec0\u4e48\u662fPython\uff1f\n",
      "\n",
      "## 1.1.1 \u79d1\u5b66\u5bb6\u7684\u9700\u6c42\n",
      "\n",
      "- \u83b7\u5f97\u6570\u636e\uff08\u6a21\u62df\uff0c\u5b9e\u9a8c\u63a7\u5236\uff09\n",
      "- \u64cd\u4f5c\u53ca\u5904\u7406\u6570\u636e\n",
      "- \u53ef\u89c6\u5316\u7ed3\u679c... \u7406\u89e3\u6211\u4eec\u5728\u505a\u4ec0\u4e48\uff01\n",
      "- \u6c9f\u901a\u7ed3\u679c\uff1a\u751f\u6210\u62a5\u544a\u6216\u51fa\u7248\u7269\u7684\u56fe\u7247\uff0c\u5199\u62a5\u544a\n",
      "\n",
      "## 1.1.2 \u8981\u6c42\n",
      "\n",
      "- \u5bf9\u4e8e\u7ecf\u5178\u7684\u6570\u5b66\u65b9\u6cd5\u53ca\u57fa\u672c\u7684\u65b9\u6cd5\uff0c\u6709\u4e30\u5bcc\u7684\u73b0\u6210\u5de5\u5177\uff1a\u6211\u4eec\u4e0d\u5e0c\u671b\u91cd\u65b0\u7f16\u5199\u7a0b\u5e8f\u53bb\u753b\u51fa\u66f2\u7ebf\u3001\u5085\u7acb\u53f6\u53d8\u6362\u6216\u8005\u62df\u5408\u7b97\u6cd5\u3002\u4e0d\u8981\u91cd\u590d\u53d1\u660e\u8f6e\u5b50\uff01\n",
      "- \u6613\u4e8e\u5b66\u4e60\uff1a\u8ba1\u7b97\u673a\u79d1\u5b66\u4e0d\u662f\u6211\u4eec\u7684\u5de5\u4f5c\u4e5f\u4e0d\u662f\u6211\u4eec\u7684\u6559\u80b2\u80cc\u666f\u3002\u6211\u4eec\u60f3\u8981\u5728\u51e0\u5206\u949f\u5185\u753b\u51fa\u66f2\u7ebf\uff0c\u5e73\u6ed1\u4e00\u4e2a\u4fe1\u53f7\u6216\u8005\u505a\u5085\u7acb\u53f6\u53d8\u6362\uff0c\n",
      "- \u53ef\u4ee5\u65b9\u4fbf\u7684\u4e0e\u5408\u4f5c\u8005\u3001\u5b66\u751f\u3001\u5ba2\u6237\u8fdb\u884c\u4ea4\u6d41\uff0c\u4ee3\u7801\u53ef\u4ee5\u5b58\u5728\u4e8e\u5b9e\u9a8c\u5ba4\u6216\u516c\u53f8\u91cc\u9762\uff1a\u4ee3\u7801\u7684\u53ef\u8bfb\u6027\u5e94\u8be5\u50cf\u4e66\u4e00\u6837\u3002\u56e0\u6b64\uff0c\u8fd9\u79cd\u8bed\u8a00\u5e94\u8be5\u5305\u542b\u5c3d\u53ef\u80fd\u5c11\u7684\u8bed\u6cd5\u7b26\u53f7\u6216\u8005\u4e0d\u5fc5\u8981\u7684\u5e38\u89c4\u89c4\u5b9a\uff0c\u4f7f\u6765\u81ea\u6570\u5b66\u6216\u79d1\u5b66\u9886\u57df\u8bfb\u8005\u6109\u60a6\u7684\u7406\u89e3\u8fd9\u4e9b\u4ee3\u7801\u3002\n",
      "- \u8bed\u8a00\u9ad8\u6548\uff0c\u6267\u884c\u5feb...\u4f46\u662f\u4e0d\u9700\u8981\u662f\u975e\u5e38\u5feb\u7684\u4ee3\u7801\uff0c\u56e0\u4e3a\u5982\u679c\u6211\u4eec\u82b1\u8d39\u4e86\u592a\u591a\u7684\u65f6\u95f4\u6765\u5199\u4ee3\u7801\uff0c\u975e\u5e38\u5feb\u7684\u4ee3\u7801\u4e5f\u662f\u65e0\u7528\u7684\u3002\n",
      "- \u4e00\u4e2a\u5355\u4e00\u7684\u8bed\u8a00/\u73af\u5883\u505a\u6240\u6709\u4e8b\uff0c\u5982\u679c\u53ef\u80fd\u7684\u8bdd\uff0c\u907f\u514d\u6bcf\u4e2a\u65b0\u95ee\u9898\u90fd\u8981\u5b66\u4e60\u65b0\u8f6f\u4ef6\n",
      "\n",
      "## 1.1.3 \u73b0\u6709\u7684\u89e3\u51b3\u65b9\u6848\n",
      "\n",
      "\u79d1\u5b66\u5bb6\u7528\u54ea\u79cd\u89e3\u51b3\u65b9\u6848\u8fdb\u884c\u5de5\u4f5c\uff1f\n",
      "\n",
      "### \u7f16\u8bd1\u8bed\u8a00\uff1aC\u3001C++\u3001Fortran\u7b49\u3002\n",
      "\n",
      "- \u4f18\u52bf\uff1a\n",
      "    - \u975e\u5e38\u5feb\u3002\u6781\u5ea6\u4f18\u5316\u7684\u7f16\u8bd1\u5668\u3002\u5bf9\u4e8e\u5927\u91cf\u7684\u8ba1\u7b97\u6765\u8bf4\uff0c\u5f88\u96be\u6bd4\u8fd9\u4e9b\u8bed\u8a00\u7684\u6027\u80fd\u66f4\u597d\u3002\n",
      "    - \u4e00\u4e9b\u975e\u5e38\u4f18\u5316\u7684\u79d1\u5b66\u8ba1\u7b97\u5305\u3002\u6bd4\u5982\uff1aBLAS\uff08\u5411\u91cf/\u77e9\u9635\u64cd\u4f5c\uff09\n",
      "\n",
      "- \u4e0d\u8db3\uff1a\n",
      "    - \u4f7f\u7528\u8d77\u6765\u4ee4\u4eba\u75db\u82e6\uff1a\u5f00\u53d1\u8fc7\u7a0b\u4e2d\u6ca1\u6709\u4efb\u4f55\u4e92\u52a8\uff0c\u5f3a\u5236\u7f16\u8bd1\u6b65\u9aa4\uff0c\u5570\u55e6\u7684\u8bed\u6cd5\uff08&, ::, }}, ; \u7b49\uff09\uff0c\u624b\u52a8\u5185\u5b58\u7ba1\u7406\uff08\u5728C\u4e2d\u975e\u5e38\u68d8\u624b\uff09\u3002\u5bf9\u4e8e\u975e\u8ba1\u7b97\u673a\u5b66\u5bb6\u4ed6\u4eec\u662f**\u8270\u6df1\u7684\u8bed\u8a00**\u3002\n",
      "\n",
      "### \u811a\u672c\u8bed\u8a00\uff1aMatlab\n",
      "- \u4f18\u52bf\uff1a\n",
      "    - \u5bf9\u4e0d\u540c\u7684\u9886\u57df\u7684\u591a\u79cd\u7b97\u6cd5\u90fd\u6709\u975e\u5e38\u7684\u7c7b\u5e93\u3002\u6267\u884c\u5f88\u5feb\uff0c\u56e0\u4e3a\u8fd9\u4e9b\u7c7b\u5e93\u901a\u5e38\u4f7f\u7528\u7f16\u8bd1\u8bed\u8a00\u5199\u7684\u3002\n",
      "    - \u53cb\u597d\u7684\u5f00\u53d1\u73af\u5883\uff1a\u5b8c\u5584\u7684\u3001\u7ec4\u7ec7\u826f\u597d\u7684\u5e2e\u52a9\uff0c\u6574\u5408\u7684\u7f16\u8f91\u5668\u7b49\n",
      "    - \u6709\u5546\u4e1a\u652f\u6301\n",
      "\n",
      "- \u4e0d\u8db3\uff1a\n",
      "    - \u57fa\u7840\u8bed\u8a00\u975e\u5e38\u6b20\u7f3a\uff0c\u4f1a\u9650\u5236\u9ad8\u7ea7\u7528\u6237\n",
      "    - \u4e0d\u662f\u514d\u8d39\u7684\n",
      "    \n",
      "### \u5176\u4ed6\u811a\u672c\u8bed\u8a00\uff1aScilab\u3001Octave\u3001Igor\u3001R\u3001IDL\u7b49\u3002\n",
      "\n",
      "- \u4f18\u52bf\uff1a\n",
      "    - \u5f00\u6e90\u3001\u514d\u8d39\uff0c\u6216\u8005\u81f3\u5c11\u6bd4Matlba\u4fbf\u5b9c\u3002\n",
      "    - \u4e00\u4e9b\u529f\u80fd\u975e\u5e38\u9ad8\u7ea7\uff08R\u7684\u7edf\u8ba1\uff0cIgor\u7684\u56fe\u5f62\u7b49\u3002\uff09\n",
      "\n",
      "- \u4e0d\u8db3\uff1a\n",
      "    - \u6bd4Matlab\u66f4\u5c11\u7684\u53ef\u7528\u7b97\u6cd5\uff0c\u8bed\u8a00\u4e5f\u5e76\u4e0d\u66f4\u9ad8\u7ea7\n",
      "    - \u4e00\u4e9b\u8f6f\u4ef6\u66f4\u4e13\u6ce8\u4e8e\u4e00\u4e2a\u9886\u57df\u3002\u6bd4\u5982\uff0cGnuplot\u6216xmgrace\u753b\u66f2\u7ebf\u3002\u8fd9\u4e9b\u7a0b\u5e8f\u975e\u5e38\u5f3a\u5927\uff0c\u4f46\u662f\u4ed6\u4eec\u53ea\u9650\u5b9a\u4e8e\u4e00\u4e2a\u5355\u4e00\u7528\u9014\uff0c\u6bd4\u5982\u4f5c\u56fe\u3002\n",
      "\n",
      "### \u90a3Python\u5462\uff1f\n",
      "\n",
      "- \u4f18\u52bf\uff1a\n",
      "    - \u975e\u5e38\u4e30\u5bcc\u7684\u79d1\u5b66\u8ba1\u7b97\u5305\uff08\u5c3d\u7ba1\u6bd4Matlab\u5c11\u4e00\u4e9b\uff09\n",
      "    - \u7cbe\u5fc3\u8bbe\u8ba1\u7684\u8bed\u8a00\uff0c\u5141\u8bb8\u5199\u51fa\u53ef\u8bfb\u6027\u975e\u5e38\u597d\u5e76\u4e14\u7ed3\u6784\u826f\u597d\u7684\u4ee3\u7801\uff1a\u6211\u4eec\u201c\u6309\u7167\u6211\u4eec\u6240\u60f3\u53bb\u5199\u4ee3\u7801\u201d\u3002\n",
      "    - \u5bf9\u4e8e\u79d1\u5b66\u8ba1\u7b97\u5916\u7684\u5176\u4ed6\u4efb\u52a1\u4e5f\u6709\u8bb8\u591a\u7c7b\u5e93\uff08\u7f51\u7ad9\u670d\u52a1\u5668\u7ba1\u7406\uff0c\u4e32\u53e3\u63a5\u6536\u7b49\u7b49\u3002\uff09\n",
      "    - \u514d\u8d39\u7684\u5f00\u6e90\u8f6f\u4ef6\uff0c\u5e7f\u6cdb\u4f20\u64ad\uff0c\u6709\u4e00\u4e2a\u5145\u6ee1\u6d3b\u529b\u7684\u793e\u533a\u3002\n",
      "\n",
      "- \u4e0d\u8db3\uff1a\n",
      "    - \u4e0d\u592a\u53cb\u597d\u7684\u5f00\u53d1\u73af\u5883\uff0c\u6bd4\u5982\u4e0eMatlab\u76f8\u6bd4\u3002\uff08\u66f4\u52a0\u6781\u5ba2\u5411\uff09\u3002\n",
      "    - \u5e76\u4e0d\u662f\u5728\u5176\u4ed6\u4e13\u4e1a\u8f6f\u4ef6\u6216\u5de5\u5177\u7bb1\u4e2d\u53ef\u4ee5\u627e\u5230\u7b97\u6cd5\u90fd\u53ef\u4ee5\u627e\u5230\n",
      "\n",
      "# 1.2 Python\u79d1\u5b66\u8ba1\u7b97\u7684\u6784\u6210\n",
      "\n",
      "\u4e0eMatlba\uff0cScilab\u6216\u8005R\u4e0d\u540c\uff0cPython\u5e76\u6ca1\u6709\u9884\u5148\u7ed1\u5b9a\u7684\u4e00\u7ec4\u79d1\u5b66\u8ba1\u7b97\u6a21\u5757\u3002\u4e0b\u9762\u662f\u53ef\u4ee5\u7ec4\u5408\u8d77\u6765\u83b7\u5f97\u79d1\u5b66\u8ba1\u7b97\u73af\u5883\u7684\u57fa\u7840\u7684\u7ec4\u4ef6\u3002\n",
      "\n",
      "- **Python**\uff0c\u901a\u7528\u7684\u73b0\u4ee3\u8ba1\u7b97\u8bed\u8a00\n",
      "    - Python\u8bed\u8a00\uff1a\u6570\u636e\u7c7b\u578b\uff08\u5b57\u7b26string\uff0c\u6574\u578bint\uff09\uff0c\u6d41\u7a0b\u63a7\u5236\uff0c\u6570\u636e\u96c6\u5408\uff08\u5217\u8868list\uff0c\u5b57\u5178dict\uff09\uff0c\u6a21\u5f0f\u7b49\u7b49\u3002\n",
      "    - \u6807\u51c6\u5e93\u53ca\u6a21\u5757\n",
      "    - \u7528Pyhon\u5199\u7684\u5927\u91cf\u4e13\u4e1a\u6a21\u5757\u53ca\u5e94\u7528\uff1a\u7f51\u7edc\u534f\u8bae\u3001\u7f51\u7ad9\u6846\u67b6\u7b49...\u4ee5\u53ca\u79d1\u5b66\u8ba1\u7b97\u3002\n",
      "    - \u5f00\u53d1\u5de5\u5177\uff08\u81ea\u52a8\u6d4b\u8bd5\uff0c\u6587\u6863\u751f\u6210\uff09\n",
      "\n",
      "- **IPython**, \u9ad8\u7ea7\u7684**Python Shell** [http://ipython.org/](http://ipython.org/)\n",
      "![ipython](http://scipy-lectures.github.io/_images/snapshot_ipython.png)\n",
      "\n",
      "- **Numpy** : \u63d0\u4f9b\u4e86\u5f3a\u5927\u6570\u503c\u6570\u7ec4\u5bf9\u8c61\u4ee5\u53ca\u7a0b\u5e8f\u53bb\u64cd\u4f5c\u5b83\u4eec\u3002[http://www.numpy.org/](http://www.numpy.org/)\n",
      "- **Scipy** : \u9ad8\u7ea7\u7684\u6570\u636e\u5904\u7406\u7a0b\u5e8f\u3002\u4f18\u5316\u3001\u56de\u5f52\u63d2\u503c\u7b49[http://www.scipy.org/](http://www.scipy.org/)\n",
      "- **Matplotlib** : 2D\u53ef\u89c6\u5316\uff0c\u201c\u51fa\u7248\u7ea7\u201d\u7684\u56fe\u8868[http://matplotlib.sourceforge.net/](http://matplotlib.sourceforge.net/)\n",
      "![Matplotlib](http://scipy-lectures.github.io/_images/random_c.jpg)\n",
      "\n",
      "- **Mayavi** : 3D\u53ef\u89c6\u5316[http://code.enthought.com/projects/mayavi/](http://code.enthought.com/projects/mayavi/)\n",
      "![Mayavi](http://scipy-lectures.github.io/_images/example_surface_from_irregular_data.jpg)\n",
      "\n",
      "# 1.3 \u4ea4\u4e92\u5de5\u4f5c\u6d41\uff1aIPython\u548c\u6587\u672c\u7f16\u8f91\u5668\n",
      "\n",
      "** \u6d4b\u8bd5\u548c\u7406\u89e3\u7b97\u6cd5\u7684\u4ea4\u4e92\u5de5\u4f5c**\uff1a\u5728\u8fd9\u4e2a\u90e8\u5206\u6211\u4eec\u63cf\u8ff0\u4e00\u4e0b\u7528[IPython](http://ipython.org/)\u7684\u4ea4\u4e92\u5de5\u4f5c\u6d41\u6765\u65b9\u4fbf\u7684\u7814\u7a76\u548c\u7406\u89e3\u7b97\u6cd5\u3002\n",
      "\n",
      "Python\u662f\u4e00\u95e8\u901a\u7528\u8bed\u8a00\u3002\u4e0e\u5176\u4ed6\u7684\u901a\u7528\u8bed\u8a00\u4e00\u6837\uff0c\u6ca1\u6709\u4e00\u4e2a\u7edd\u5bf9\u6743\u5a01\u7684\u5de5\u4f5c\u73af\u5883\uff0c\u4e5f\u4e0d\u6b62\u4e00\u79cd\u65b9\u6cd5\u4f7f\u7528\u5b83\u3002\u5c3d\u7ba1\u8fd9\u5bf9\u65b0\u4eba\u6765\u8bf4\u4e0d\u592a\u597d\u627e\u5230\u9002\u5408\u81ea\u5df1\u7684\u65b9\u5f0f\uff0c\u4f46\u662f\uff0c\u8fd9\u4f7f\u5f97Python\u88ab\u7528\u4e8e\u5728\u7f51\u7ad9\u670d\u52a1\u5668\u6216\u5d4c\u5165\u8bbe\u5907\u4e2d\u7f16\u5199\u7a0b\u5e8f\u3002\n",
      "\n",
      "> **\u672c\u90e8\u5206\u7684\u53c2\u8003\u6587\u6863**\uff1a\n",
      "\n",
      "> **IPython\u7528\u6237\u624b\u518c**\uff1a[http://ipython.org/ipython-doc/dev/index.html](http://ipython.org/ipython-doc/dev/index.html)\n",
      "\n",
      "## 1.3.1 \u547d\u4ee4\u884c\u4ea4\u4e92\n",
      "\n",
      "\u542f\u52a8ipython:"
     ]
    },
    {
     "cell_type": "code",
     "collapsed": false,
     "input": [
      "print('Hello world')"
     ],
     "language": "python",
     "metadata": {},
     "outputs": [
      {
       "output_type": "stream",
       "stream": "stdout",
       "text": [
        "Hello world\n"
       ]
      }
     ],
     "prompt_number": 1
    },
    {
     "cell_type": "markdown",
     "metadata": {},
     "source": [
      "\u5728\u5bf9\u8c61\u540e\u4f7f\u7528\uff1f\u8fd0\u7b97\u7b26\u83b7\u5f97\u5e2e\u52a9:\n",
      "```python\n",
      "In [2]: print\n",
      "Type:          builtin_function_or_method\n",
      "Base Class:    <type \u2019builtin_function_or_method\u2019>\n",
      "String Form:   <built-in function print>\n",
      "Namespace:     Python builtin\n",
      "Docstring:\n",
      "    print(value, ..., sep=\u2019 \u2019, end=\u2019\\n\u2019, file=sys.stdout)\n",
      "    Prints the values to a stream, or to sys.stdout by default.\n",
      "    Optional keyword arguments:\n",
      "    file: a file-like object (stream); defaults to the current sys.stdout.\n",
      "    sep:  string inserted between values, default a space.\n",
      "    end:  string appended after the last value, default a newline.\n",
      "```"
     ]
    },
    {
     "cell_type": "markdown",
     "metadata": {},
     "source": [
      "## 1.3.2 \u5728\u7f16\u8f91\u5668\u4e2d\u8be6\u5c3d\u63cf\u8ff0\u7b97\u6cd5\n",
      "\n",
      "\u5728\u6587\u672c\u7f16\u8f91\u5668\u4e2d\uff0c\u521b\u5efa\u4e00\u4e2amy_file.py\u6587\u4ef6\u3002\u5728EPD\uff08[Enthought Python Distribution](https://www.enthought.com/products/epd/)\uff09\u4e2d\uff0c\u4f60\u53ef\u4ee5\u4ece\u5f00\u59cb\u6309\u94ae\u4f7f\u7528*Scite*\u3002\u5728[Python(x,y)](https://code.google.com/p/pythonxy/)\u4e2d, \u4f60\u53ef\u4ee5\u4f7f\u7528Spyder\u3002\u5728Ubuntu\u4e2d, \u5982\u679c\u4f60\u8fd8\u6ca1\u6709\u6700\u559c\u6b22\u7684\u7f16\u8f91\u5668\uff0c\u6211\u4eec\u5efa\u8bae\u4f60\u5b89\u88c5[Stani\u2019s Python editor](http://sourceforge.net/projects/spe/)\u3002\u5728\u8fd9\u4e2a\u6587\u4ef6\u4e2d\uff0c\u8f93\u5165\u5982\u4e0b\u884c\uff1a\n",
      "```python\n",
      "s = 'Hello world'\n",
      "print(s)\n",
      "```\n",
      "\n",
      "\u73b0\u5728\uff0c\u4f60\u53ef\u4ee5\u5728IPython\u4e2d\u8fd0\u884c\u5b83\uff0c\u5e76\u7814\u7a76\u4ea7\u751f\u7684\u53d8\u91cf\uff1a"
     ]
    },
    {
     "cell_type": "code",
     "collapsed": false,
     "input": [
      "%run my_file.py"
     ],
     "language": "python",
     "metadata": {},
     "outputs": [
      {
       "output_type": "stream",
       "stream": "stdout",
       "text": [
        "Hello world\n"
       ]
      }
     ],
     "prompt_number": 2
    },
    {
     "cell_type": "code",
     "collapsed": false,
     "input": [
      "s"
     ],
     "language": "python",
     "metadata": {},
     "outputs": [
      {
       "metadata": {},
       "output_type": "pyout",
       "prompt_number": 3,
       "text": [
        "'Hello world'"
       ]
      }
     ],
     "prompt_number": 3
    },
    {
     "cell_type": "code",
     "collapsed": false,
     "input": [
      "%whos"
     ],
     "language": "python",
     "metadata": {},
     "outputs": [
      {
       "output_type": "stream",
       "stream": "stdout",
       "text": [
        "Variable   Type    Data/Info\n",
        "----------------------------\n",
        "s          str     Hello world\n"
       ]
      }
     ],
     "prompt_number": 4
    },
    {
     "cell_type": "markdown",
     "metadata": {},
     "source": [
      ">**\u4ece\u811a\u672c\u5230\u51fd\u6570**\n",
      "\n",
      ">\u5c3d\u7ba1\u4ec5\u4f7f\u7528\u811a\u672c\u5de5\u4f5c\u5f88\u8bf1\u4eba\uff0c\u5373\u4e00\u4e2a\u6ee1\u662f\u4e00\u4e2a\u63a5\u4e00\u4e2a\u547d\u4ee4\u7684\u6587\u4ef6\uff0c\u4f46\u662f\u8981\u6709\u8ba1\u5212\u7684\u9010\u6e10\u4ece\u811a\u672c\u8fdb\u5316\u5230\u4e00\u7ec4\u51fd\u6570\uff1a\n",
      "\n",
      ">- \u811a\u672c\u4e0d\u53ef\u590d\u7528\uff0c\u51fd\u6570\u53ef\u590d\u7528\u3002\n",
      "\n",
      ">- \u4ee5\u51fd\u6570\u7684\u89d2\u5ea6\u601d\u8003\uff0c\u6709\u52a9\u4e8e\u5c06\u95ee\u9898\u62c6\u5206\u4e3a\u5c0f\u4ee3\u7801\u5757\u3002\n",
      "\n",
      "## 1.3.3 IPython\u63d0\u793a\u4e0e\u6280\u5de7\n",
      "\n",
      "IPython\u7528\u6237\u624b\u518c\u5305\u542b\u5173\u4e8e\u4f7f\u7528IPython\u7684\u5927\u91cf\u4fe1\u606f\uff0c\u4f46\u662f\uff0c\u4e3a\u4e86\u5e2e\u4f60\u4f60\u66f4\u5feb\u7684\u5165\u95e8\uff0c\u8fd9\u91cc\u5feb\u901f\u4ecb\u7ecd\u4e09\u4e2a\u6709\u7528\u7684\u529f\u80fd\uff1a*\u5386\u53f2*\uff0c*\u9b54\u6cd5\u51fd\u6570*\uff0c*\u522b\u79f0*\u548c*tab\u5b8c\u6210*\u3002\n",
      "\n",
      "\u4e0eUnix Shell\u76f8\u4f3c\uff0cIPython\u652f\u6301\u547d\u4ee4\u5386\u53f2\u3002\u6309\u4e0a\u4e0b\u5728\u4e4b\u524d\u8f93\u5165\u7684\u547d\u4ee4\u95f4\u5207\u6362\uff1a\n",
      "```python\n",
      "In [1]: x = 10\n",
      "In [2]: <UP>\n",
      "In [2]: x = 10\n",
      "```\n",
      "\n",
      "IPython\u901a\u8fc7\u5728\u547d\u4ee4\u524d\u52a0*%*\u5b57\u7b26\u7684\u524d\u7f00\uff0c\u652f\u6301\u6240\u8c13\u9b54\u6cd5\u51fd\u6570\u3002\u4f8b\u5982\uff0c\u524d\u9762\u90e8\u5206\u7684\u51fd\u6570*run*\u548c*whos*\u90fd\u662f\u9b54\u6cd5\u51fd\u6570\u3002\u8bf7\u6ce8\u610f*automagic*\u8bbe\u7f6e\u9ed8\u8ba4\u662f\u542f\u7528\uff0c\u5141\u8bb8\u4f60\u5ffd\u7565\u524d\u9762\u7684*%*\u3002\u56e0\u6b64\uff0c\u4f60\u53ef\u4ee5\u53ea\u8f93\u5165\u9b54\u6cd5\u51fd\u6570\u4ecd\u7136\u662f\u6709\u6548\u7684\u3002\n",
      "\n",
      "\u5176\u4ed6\u6709\u7528\u7684\u9b54\u6cd5\u51fd\u6570\uff1a\n",
      "\n",
      "- **%cd** \u6539\u53d8\u5f53\u524d\u76ee\u5f55"
     ]
    },
    {
     "cell_type": "code",
     "collapsed": false,
     "input": [
      "cd .."
     ],
     "language": "python",
     "metadata": {},
     "outputs": [
      {
       "output_type": "stream",
       "stream": "stdout",
       "text": [
        "/Users/cloga/Documents\n"
       ]
      }
     ],
     "prompt_number": 6
    },
    {
     "cell_type": "markdown",
     "metadata": {},
     "source": [
      "- **%timeit** \u5141\u8bb8\u4f60\u4f7f\u7528\u6765\u81ea\u6807\u51c6\u5e93\u4e2d\u7684timeit\u6a21\u5757\u6765\u8bb0\u5f55\u6267\u884c\u77ed\u4ee3\u7801\u7aef\u7684\u8fd0\u884c\u65f6\u95f4"
     ]
    },
    {
     "cell_type": "code",
     "collapsed": false,
     "input": [
      "timeit x = 10"
     ],
     "language": "python",
     "metadata": {},
     "outputs": [
      {
       "output_type": "stream",
       "stream": "stdout",
       "text": [
        "10000000 loops, best of 3: 26.7 ns per loop\n"
       ]
      }
     ],
     "prompt_number": 7
    },
    {
     "cell_type": "markdown",
     "metadata": {},
     "source": [
      "- **%cpaste** \u5141\u8bb8\u4f60\u7c98\u8d34\u4ee3\u7801\uff0c\u7279\u522b\u662f\u6765\u81ea\u7f51\u7ad9\u7684\u4ee3\u7801\uff0c\u524d\u9762\u5e26\u6709\u6807\u51c6\u7684Python\u63d0\u793a\u7b26 (\u5373 >>>) \u6216ipython\u63d0\u793a\u7b26\u7684\u4ee3\u7801(\u5373 in [3])\uff1a\n",
      "```python\n",
      "In [5]: cpaste\n",
      "Pasting code; enter \u2019--\u2019 alone on the line to stop or use Ctrl-D. :In [3]: timeit x = 10\n",
      ":--\n",
      "10000000 loops, best of 3: 85.9 ns per loop\n",
      "In [6]: cpaste\n",
      "Pasting code; enter \u2019--\u2019 alone on the line to stop or use Ctrl-D. :>>> timeit x = 10\n",
      ":--\n",
      "10000000 loops, best of 3: 86 ns per loop\n",
      "```\n",
      "- **%debug** \u5141\u8bb8\u4f60\u8fdb\u5165\u4e8b\u540e\u9664\u9519\u3002\u4e5f\u5c31\u662f\u8bf4\uff0c\u5982\u679c\u4f60\u60f3\u8981\u8fd0\u884c\u7684\u4ee3\u7801\u629b\u51fa\u4e86\u4e00\u4e2a\u5f02\u5e38\uff0c\u4f7f\u7528**%debug**\u5c06\u5728\u629b\u51fa\u5f02\u5e38\u7684\u4f4d\u7f6e\u8fdb\u5165\u6392\u9519\u7a0b\u5e8f\u3002\n",
      "\n",
      "```python\n",
      "In [7]: x === 10\n",
      "File \"<ipython-input-6-12fd421b5f28>\", line 1\n",
      "x === 10 ^\n",
      "  SyntaxError: invalid syntax\n",
      "In [8]: debug\n",
      "> /home/esc/anaconda/lib/python2.7/site-packages/IPython/core/compilerop.py(87)ast_parse()\n",
      "       86         and are passed to the built-in compile function.\"\"\"\n",
      "  ---> 87         return compile(source, filename, symbol, self.flags | PyCF_ONLY_AST, 1)\n",
      "88\n",
      "  ipdb>locals()\n",
      "  {\u2019source\u2019: u\u2019x === 10\\n\u2019, \u2019symbol\u2019: \u2019exec\u2019, \u2019self\u2019:\n",
      "  <IPython.core.compilerop.CachingCompiler instance at 0x2ad8ef0>,\n",
      "  \u2019filename\u2019: \u2019<ipython-input-6-12fd421b5f28>\u2019}\n",
      "```"
     ]
    },
    {
     "cell_type": "markdown",
     "metadata": {},
     "source": [
      ">**IPython help**\n",
      "\n",
      ">- \u5185\u7f6e\u7684IPython\u624b\u518c\u53ef\u4ee5\u901a\u8fc7*%quickref*\u9b54\u6cd5\u51fd\u6570\u8fdb\u5165\u3002\n",
      ">- \u8f93\u5165*%magic*\u4f1a\u663e\u793a\u6240\u6709\u53ef\u7528\u9b54\u6cd5\u51fd\u6570\u7684\u5217\u8868\u3002\n",
      "\n",
      "\u800c\u4e14IPython\u63d0\u4f9b\u4e86\u5927\u91cf\u7684*\u522b\u79f0*\u6765\u6a21\u62df\u5e38\u89c1\u7684UNIX\u547d\u4ee4\u884c\u5de5\u5177\u6bd4\u5982*ls*\u7b49\u4e8elist files\uff0c*cp*\u7b49\u4e8ecopy files\u4ee5\u53ca*rm*\u7b49\u4e8eremove files\u3002\u8f93\u5165*alias*\u53ef\u4ee5\u663e\u793a\u6240\u6709\u7684\u522b\u79f0\u7684\u5217\u8868\uff1a"
     ]
    },
    {
     "cell_type": "code",
     "collapsed": false,
     "input": [
      "alias"
     ],
     "language": "python",
     "metadata": {},
     "outputs": [
      {
       "output_type": "stream",
       "stream": "stdout",
       "text": [
        "Total number of aliases: 12\n"
       ]
      },
      {
       "metadata": {},
       "output_type": "pyout",
       "prompt_number": 5,
       "text": [
        "[('cat', 'cat'),\n",
        " ('cp', 'cp'),\n",
        " ('ldir', 'ls -F -G -l %l | grep /$'),\n",
        " ('lf', 'ls -F -l -G %l | grep ^-'),\n",
        " ('lk', 'ls -F -l -G %l | grep ^l'),\n",
        " ('ll', 'ls -F -l -G'),\n",
        " ('ls', 'ls -F -G'),\n",
        " ('lx', 'ls -F -l -G %l | grep ^-..x'),\n",
        " ('mkdir', 'mkdir'),\n",
        " ('mv', 'mv'),\n",
        " ('rm', 'rm'),\n",
        " ('rmdir', 'rmdir')]"
       ]
      }
     ],
     "prompt_number": 5
    },
    {
     "cell_type": "markdown",
     "metadata": {},
     "source": [
      "\u6700\u540e\uff0c\u63d0\u4e00\u4e0b*tab\u5b8c\u6210*\u529f\u80fd\uff0c\u6211\u4eec\u4eceIPython\u624b\u518c\u5f15\u7528\u5b83\u7684\u63cf\u8ff0\uff1a\n",
      "\n",
      ">Tab completion, especially for attributes, is a convenient way to explore the structure of any object you\u2019re dealing with. Simply type object_name.<TAB> to view the object\u2019s attributes. Besides Python objects and keywords, tab completion also works on file and directory names.\n",
      "\n",
      "```python\n",
      "In [1]: x = 10\n",
      "In [2]: x.<TAB>\n",
      "x.bit_length x.conjugate x.denominator x.imag x.numerator x.real\n",
      "In [3]: x.real.\n",
      "x.real.bit_length x.real.denominator x.real.numerator x.real.conjugate x.real.imag x.real.real\n",
      "In [4]: x.real.\n",
      "```"
     ]
    }
   ],
   "metadata": {}
  }
 ]
}